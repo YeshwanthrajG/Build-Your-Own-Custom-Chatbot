{
 "cells": [
  {
   "cell_type": "markdown",
   "id": "c17afc91",
   "metadata": {
    "id": "c17afc91"
   },
   "source": [
    "# Custom Chatbot Project\n",
    "\n",
    "# Dataset Selection\n",
    "\n",
    "In this project, I am building a custom chatbot by leveraging OpenAI's language models and a custom dataset. The dataset chosen is *character_descriptions.csv*, which contains structured information about various fictional characters including their name, description, medium, and setting.\n",
    "\n",
    "### Why this dataset?\n",
    "\n",
    "This dataset is ideal for building a chatbot that can answer questions about different characters. The structured fields allow us to generate meaningful narratives for embeddings and support a variety of character-specific queries. Additionally, this dataset includes more than 20 rows, satisfying the requirement for a rich context base."
   ]
  },
  {
   "cell_type": "markdown",
   "id": "10ff0f54",
   "metadata": {
    "id": "10ff0f54"
   },
   "source": [
    "# Sample Prompt Creation\n",
    "\n",
    "I randomly selected two characters from the dataset and use their names to create basic natural language questions. This simulates user input and helps test the chatbot's capabilities early in the workflow."
   ]
  },
  {
   "cell_type": "markdown",
   "id": "a63d4c5f",
   "metadata": {
    "id": "a63d4c5f"
   },
   "source": [
    "# Data Wrangling\n",
    "\n",
    "## Setting up OpenAI API\n",
    "Sets the API base to the custom endpoint provided by Vocareum (used in Udacity's workspace) and initializes the API key to access OpenAI's services."
   ]
  },
  {
   "cell_type": "code",
   "execution_count": 1,
   "id": "c69b83a1",
   "metadata": {
    "id": "c69b83a1"
   },
   "outputs": [],
   "source": [
    "import openai\n",
    "openai.api_base=\"https://openai.vocareum.com/v1\"\n",
    "openai.api_key=\"YOUR API KEY\""
   ]
  },
  {
   "cell_type": "markdown",
   "id": "2Gn-HYrK6Jwo",
   "metadata": {
    "id": "2Gn-HYrK6Jwo"
   },
   "source": [
    "## Loading and Processing Dataset\n",
    "Loads the dataset and combines relevant character details into a single text column (required for embedding and RAG logic). Keeps only the text column to simplify later processing."
   ]
  },
  {
   "cell_type": "code",
   "execution_count": 2,
   "id": "0a595980",
   "metadata": {
    "id": "0a595980"
   },
   "outputs": [
    {
     "data": {
      "text/html": [
       "<div>\n",
       "<style scoped>\n",
       "    .dataframe tbody tr th:only-of-type {\n",
       "        vertical-align: middle;\n",
       "    }\n",
       "\n",
       "    .dataframe tbody tr th {\n",
       "        vertical-align: top;\n",
       "    }\n",
       "\n",
       "    .dataframe thead th {\n",
       "        text-align: right;\n",
       "    }\n",
       "</style>\n",
       "<table border=\"1\" class=\"dataframe\">\n",
       "  <thead>\n",
       "    <tr style=\"text-align: right;\">\n",
       "      <th></th>\n",
       "      <th>text</th>\n",
       "    </tr>\n",
       "  </thead>\n",
       "  <tbody>\n",
       "    <tr>\n",
       "      <th>0</th>\n",
       "      <td>Emily is a A young woman in her early 20s, Emi...</td>\n",
       "    </tr>\n",
       "    <tr>\n",
       "      <th>1</th>\n",
       "      <td>Jack is a A middle-aged man in his 40s, Jack i...</td>\n",
       "    </tr>\n",
       "    <tr>\n",
       "      <th>2</th>\n",
       "      <td>Alice is a A woman in her late 30s, Alice is a...</td>\n",
       "    </tr>\n",
       "    <tr>\n",
       "      <th>3</th>\n",
       "      <td>Tom is a A man in his 50s, Tom is a retired so...</td>\n",
       "    </tr>\n",
       "    <tr>\n",
       "      <th>4</th>\n",
       "      <td>Sarah is a A woman in her mid-20s, Sarah is a ...</td>\n",
       "    </tr>\n",
       "    <tr>\n",
       "      <th>5</th>\n",
       "      <td>George is a A man in his early 30s, George is ...</td>\n",
       "    </tr>\n",
       "    <tr>\n",
       "      <th>6</th>\n",
       "      <td>Rachel is a A woman in her late 20s, Rachel is...</td>\n",
       "    </tr>\n",
       "    <tr>\n",
       "      <th>7</th>\n",
       "      <td>John is a A man in his 60s, John is a retired ...</td>\n",
       "    </tr>\n",
       "    <tr>\n",
       "      <th>8</th>\n",
       "      <td>Maria is a A middle-aged Latina woman in her 4...</td>\n",
       "    </tr>\n",
       "    <tr>\n",
       "      <th>9</th>\n",
       "      <td>Caleb is a A young African American man in his...</td>\n",
       "    </tr>\n",
       "    <tr>\n",
       "      <th>10</th>\n",
       "      <td>Tyler is a A white man in his mid-30s, Tyler i...</td>\n",
       "    </tr>\n",
       "    <tr>\n",
       "      <th>11</th>\n",
       "      <td>Sonya is a A white woman in her late 20s, Sony...</td>\n",
       "    </tr>\n",
       "    <tr>\n",
       "      <th>12</th>\n",
       "      <td>Manuel is a A middle-aged Hispanic man in his ...</td>\n",
       "    </tr>\n",
       "    <tr>\n",
       "      <th>13</th>\n",
       "      <td>Will is a A white man in his early 40s, Will i...</td>\n",
       "    </tr>\n",
       "    <tr>\n",
       "      <th>14</th>\n",
       "      <td>Mia is a A young Australian woman in her mid-2...</td>\n",
       "    </tr>\n",
       "    <tr>\n",
       "      <th>15</th>\n",
       "      <td>Lucas is a A middle-aged Australian man in his...</td>\n",
       "    </tr>\n",
       "    <tr>\n",
       "      <th>16</th>\n",
       "      <td>Tahlia is a A young Indigenous Australian woma...</td>\n",
       "    </tr>\n",
       "    <tr>\n",
       "      <th>17</th>\n",
       "      <td>Max is a A white Australian man in his late 20...</td>\n",
       "    </tr>\n",
       "    <tr>\n",
       "      <th>18</th>\n",
       "      <td>Ava is a A middle-aged Australian woman in her...</td>\n",
       "    </tr>\n",
       "    <tr>\n",
       "      <th>19</th>\n",
       "      <td>Donna is a A seasoned performer with a larger-...</td>\n",
       "    </tr>\n",
       "    <tr>\n",
       "      <th>20</th>\n",
       "      <td>Johnny is a A young up-and-coming performer, J...</td>\n",
       "    </tr>\n",
       "    <tr>\n",
       "      <th>21</th>\n",
       "      <td>Sable is a A sultry and dramatic performer, Sa...</td>\n",
       "    </tr>\n",
       "    <tr>\n",
       "      <th>22</th>\n",
       "      <td>Dolly is a A bubbly and vivacious performer, D...</td>\n",
       "    </tr>\n",
       "    <tr>\n",
       "      <th>23</th>\n",
       "      <td>Vixen is a A fierce and competitive performer,...</td>\n",
       "    </tr>\n",
       "    <tr>\n",
       "      <th>24</th>\n",
       "      <td>Karma is a A chameleon-like performer, Karma i...</td>\n",
       "    </tr>\n",
       "    <tr>\n",
       "      <th>25</th>\n",
       "      <td>Crystal is a A quirky and imaginative performe...</td>\n",
       "    </tr>\n",
       "    <tr>\n",
       "      <th>26</th>\n",
       "      <td>Olivia is a A confident and charismatic market...</td>\n",
       "    </tr>\n",
       "    <tr>\n",
       "      <th>27</th>\n",
       "      <td>Marcus is a A charming and successful entrepre...</td>\n",
       "    </tr>\n",
       "    <tr>\n",
       "      <th>28</th>\n",
       "      <td>Maya is a A kind and compassionate nurse with ...</td>\n",
       "    </tr>\n",
       "    <tr>\n",
       "      <th>29</th>\n",
       "      <td>James is a A handsome and athletic personal tr...</td>\n",
       "    </tr>\n",
       "  </tbody>\n",
       "</table>\n",
       "</div>"
      ],
      "text/plain": [
       "                                                 text\n",
       "0   Emily is a A young woman in her early 20s, Emi...\n",
       "1   Jack is a A middle-aged man in his 40s, Jack i...\n",
       "2   Alice is a A woman in her late 30s, Alice is a...\n",
       "3   Tom is a A man in his 50s, Tom is a retired so...\n",
       "4   Sarah is a A woman in her mid-20s, Sarah is a ...\n",
       "5   George is a A man in his early 30s, George is ...\n",
       "6   Rachel is a A woman in her late 20s, Rachel is...\n",
       "7   John is a A man in his 60s, John is a retired ...\n",
       "8   Maria is a A middle-aged Latina woman in her 4...\n",
       "9   Caleb is a A young African American man in his...\n",
       "10  Tyler is a A white man in his mid-30s, Tyler i...\n",
       "11  Sonya is a A white woman in her late 20s, Sony...\n",
       "12  Manuel is a A middle-aged Hispanic man in his ...\n",
       "13  Will is a A white man in his early 40s, Will i...\n",
       "14  Mia is a A young Australian woman in her mid-2...\n",
       "15  Lucas is a A middle-aged Australian man in his...\n",
       "16  Tahlia is a A young Indigenous Australian woma...\n",
       "17  Max is a A white Australian man in his late 20...\n",
       "18  Ava is a A middle-aged Australian woman in her...\n",
       "19  Donna is a A seasoned performer with a larger-...\n",
       "20  Johnny is a A young up-and-coming performer, J...\n",
       "21  Sable is a A sultry and dramatic performer, Sa...\n",
       "22  Dolly is a A bubbly and vivacious performer, D...\n",
       "23  Vixen is a A fierce and competitive performer,...\n",
       "24  Karma is a A chameleon-like performer, Karma i...\n",
       "25  Crystal is a A quirky and imaginative performe...\n",
       "26  Olivia is a A confident and charismatic market...\n",
       "27  Marcus is a A charming and successful entrepre...\n",
       "28  Maya is a A kind and compassionate nurse with ...\n",
       "29  James is a A handsome and athletic personal tr..."
      ]
     },
     "execution_count": 2,
     "metadata": {},
     "output_type": "execute_result"
    }
   ],
   "source": [
    "import pandas as pd\n",
    "\n",
    "# Load the CSV file\n",
    "file_path='data/character_descriptions.csv'\n",
    "character_data=pd.read_csv(file_path)\n",
    "\n",
    "def combine_columns(row):\n",
    "    text = f\"{row['Name']} is a {row['Description']} This character appears in a {row['Medium']} set in {row['Setting']}.\"\n",
    "    return text\n",
    "\n",
    "character_data['text']=character_data.apply(combine_columns, axis=1)\n",
    "combined_df=character_data[['text']]\n",
    "combined_df.head(30)"
   ]
  },
  {
   "cell_type": "markdown",
   "id": "-K-XoJ_I6VeJ",
   "metadata": {
    "id": "-K-XoJ_I6VeJ"
   },
   "source": [
    "## Generating Sample Prompts and Running Basic Q&A\n",
    "Randomly samples two characters from the dataset, creates prompt questions using their names, and retrieves answers using OpenAI’s gpt-3.5-turbo-instruct. This represents a basic query, without custom context."
   ]
  },
  {
   "cell_type": "code",
   "execution_count": 3,
   "id": "acb3a9fd",
   "metadata": {
    "id": "acb3a9fd"
   },
   "outputs": [
    {
     "name": "stdout",
     "output_type": "stream",
     "text": [
      "Prompt1: What is Will's profession?\n",
      "It is not specified what Will's profession is.\n",
      "Prompt2: In what setting does Alice's story take place?\n",
      "Alice's story takes place in a fantastical and surreal world known as Wonderland.\n"
     ]
    }
   ],
   "source": [
    "import random\n",
    "\n",
    "# Randomly select two rows from the dataframe\n",
    "sampled_rows=combined_df.sample(2).reset_index(drop=True)\n",
    "\n",
    "character_1=sampled_rows.iloc[0]['text'].split()[0]\n",
    "character_2=sampled_rows.iloc[1]['text'].split()[0]\n",
    "\n",
    "# Generate two questions based on the selected characters\n",
    "prompt1=f\"What is {character_1}'s profession?\"\n",
    "prompt2=f\"In what setting does {character_2}'s story take place?\"\n",
    "\n",
    "print(f'Prompt1: {prompt1}')\n",
    "\n",
    "answer1 = openai.Completion.create(\n",
    "    model=\"gpt-3.5-turbo-instruct\",\n",
    "    prompt=prompt1,\n",
    "    max_tokens=150\n",
    ")[\"choices\"][0][\"text\"].strip()\n",
    "print(answer1)\n",
    "\n",
    "print(f'Prompt2: {prompt2}')\n",
    "\n",
    "answer2=openai.Completion.create(\n",
    "    model=\"gpt-3.5-turbo-instruct\",\n",
    "    prompt=prompt2,\n",
    "    max_tokens=150\n",
    ")[\"choices\"][0][\"text\"].strip()\n",
    "print(answer2)"
   ]
  },
  {
   "cell_type": "markdown",
   "id": "xuoFmQfE6us0",
   "metadata": {
    "id": "xuoFmQfE6us0"
   },
   "source": [
    "## Embedding Generation\n",
    "\n",
    "Here, we use OpenAI’s `text-embedding-ada-002` model to create dense vector representations (embeddings) of each text entry. These embeddings capture semantic meaning and are later used to determine relevance during querying."
   ]
  },
  {
   "cell_type": "code",
   "execution_count": 4,
   "id": "pemSKOFL6mkT",
   "metadata": {
    "id": "pemSKOFL6mkT"
   },
   "outputs": [
    {
     "name": "stderr",
     "output_type": "stream",
     "text": [
      "/tmp/ipykernel_803/736330567.py:12: SettingWithCopyWarning: \n",
      "A value is trying to be set on a copy of a slice from a DataFrame.\n",
      "Try using .loc[row_indexer,col_indexer] = value instead\n",
      "\n",
      "See the caveats in the documentation: https://pandas.pydata.org/pandas-docs/stable/user_guide/indexing.html#returning-a-view-versus-a-copy\n",
      "  combined_df[\"embeddings\"]=embeddings\n"
     ]
    },
    {
     "name": "stdout",
     "output_type": "stream",
     "text": [
      "Custom_Chatbot_Documented_FINAL.ipynb\t    data\r\n",
      "character_descriptions_with_embeddings.csv  project.ipynb\r\n"
     ]
    }
   ],
   "source": [
    "EMBEDDING_MODEL_NAME=\"text-embedding-ada-002\"\n",
    "batch_size=100\n",
    "embeddings=[]\n",
    "for i in range(0, len(combined_df), batch_size):\n",
    "    response = openai.Embedding.create(\n",
    "        input=combined_df.iloc[i:i+batch_size][\"text\"].tolist(),\n",
    "        engine=EMBEDDING_MODEL_NAME\n",
    "    )\n",
    "\n",
    "    embeddings.extend([data[\"embedding\"] for data in response[\"data\"]])\n",
    "\n",
    "combined_df[\"embeddings\"]=embeddings\n",
    "combined_df\n",
    "\n",
    "combined_df.to_csv('character_descriptions_with_embeddings.csv')\n",
    "len(combined_df['embeddings'][0])\n",
    "!ls"
   ]
  },
  {
   "cell_type": "markdown",
   "id": "ae769871",
   "metadata": {
    "id": "ae769871"
   },
   "source": [
    "# Custom Query Completion\n",
    "\n",
    "## Load CSV with Embeddings\n",
    "Reloads the CSV with saved embeddings and converts the text-form embeddings back into NumPy arrays for distance calculations."
   ]
  },
  {
   "cell_type": "code",
   "execution_count": 5,
   "id": "582f0656",
   "metadata": {
    "id": "582f0656"
   },
   "outputs": [],
   "source": [
    "import numpy as np\n",
    "import pandas as pd\n",
    "\n",
    "file_path='character_descriptions_with_embeddings.csv'\n",
    "df=pd.read_csv(file_path, index_col=0)\n",
    "df[\"embeddings\"]=df[\"embeddings\"].apply(eval).apply(np.array)"
   ]
  },
  {
   "cell_type": "markdown",
   "id": "w4sCUQ887R4j",
   "metadata": {
    "id": "w4sCUQ887R4j"
   },
   "source": [
    "## Define get_rows_sorted_by_relevance()\n",
    "Calculates cosine similarity between the embedding of a user’s question and each row’s text embedding. Returns the dataframe sorted from most relevant to least relevant."
   ]
  },
  {
   "cell_type": "code",
   "execution_count": 6,
   "id": "TDYGb0QM7Lgi",
   "metadata": {
    "id": "TDYGb0QM7Lgi"
   },
   "outputs": [],
   "source": [
    "from openai.embeddings_utils import get_embedding, distances_from_embeddings\n",
    "\n",
    "def get_rows_sorted_by_relevance(question, df):\n",
    "    \"\"\"\n",
    "    Function that takes in a question string and a dataframe containing\n",
    "    rows of text and associated embeddings, and returns that dataframe\n",
    "    sorted from least to most relevant for that question\n",
    "    \"\"\"\n",
    "\n",
    "    question_embeddings=get_embedding(question, engine=EMBEDDING_MODEL_NAME)\n",
    "\n",
    "    df_copy=df.copy()\n",
    "    df_copy[\"distances\"]=distances_from_embeddings(\n",
    "        question_embeddings,\n",
    "        df_copy[\"embeddings\"].values,\n",
    "        distance_metric=\"cosine\"\n",
    "    )\n",
    "\n",
    "    df_copy.sort_values(\"distances\", ascending=True, inplace=True)\n",
    "    return df_copy"
   ]
  },
  {
   "cell_type": "markdown",
   "id": "rvr4vgGt7ZTO",
   "metadata": {
    "id": "rvr4vgGt7ZTO"
   },
   "source": [
    "## Check shape of first embedding\n",
    "Verifies that each embedding is a fixed-size vector (typically 1536 dimensions for text-embedding-ada-002)."
   ]
  },
  {
   "cell_type": "code",
   "execution_count": 7,
   "id": "8b6e1f75",
   "metadata": {
    "id": "8b6e1f75"
   },
   "outputs": [
    {
     "data": {
      "text/plain": [
       "(1536,)"
      ]
     },
     "execution_count": 7,
     "metadata": {},
     "output_type": "execute_result"
    }
   ],
   "source": [
    "df['embeddings'][0].shape"
   ]
  },
  {
   "cell_type": "markdown",
   "id": "a2e9fb99",
   "metadata": {
    "id": "a2e9fb99"
   },
   "source": [
    "# Custom Query Completion\n",
    "\n",
    "Demonstrates relevance-based retrieval. Retrieves the top few character descriptions most relevant to the input question."
   ]
  },
  {
   "cell_type": "code",
   "execution_count": 8,
   "id": "13f2dcd7",
   "metadata": {
    "id": "13f2dcd7"
   },
   "outputs": [
    {
     "data": {
      "text/html": [
       "<div>\n",
       "<style scoped>\n",
       "    .dataframe tbody tr th:only-of-type {\n",
       "        vertical-align: middle;\n",
       "    }\n",
       "\n",
       "    .dataframe tbody tr th {\n",
       "        vertical-align: top;\n",
       "    }\n",
       "\n",
       "    .dataframe thead th {\n",
       "        text-align: right;\n",
       "    }\n",
       "</style>\n",
       "<table border=\"1\" class=\"dataframe\">\n",
       "  <thead>\n",
       "    <tr style=\"text-align: right;\">\n",
       "      <th></th>\n",
       "      <th>text</th>\n",
       "      <th>embeddings</th>\n",
       "      <th>distances</th>\n",
       "    </tr>\n",
       "  </thead>\n",
       "  <tbody>\n",
       "    <tr>\n",
       "      <th>42</th>\n",
       "      <td>Malvolio is a A pompous and self-righteous ste...</td>\n",
       "      <td>[-0.015081856399774551, -0.03434662148356438, ...</td>\n",
       "      <td>0.112745</td>\n",
       "    </tr>\n",
       "    <tr>\n",
       "      <th>45</th>\n",
       "      <td>Bianca is a Lady Olivia's cunning and quick-wi...</td>\n",
       "      <td>[-0.015193937346339226, -0.02585979364812374, ...</td>\n",
       "      <td>0.162383</td>\n",
       "    </tr>\n",
       "    <tr>\n",
       "      <th>43</th>\n",
       "      <td>Viola is a A plucky and resourceful young woma...</td>\n",
       "      <td>[-0.011117728427052498, -0.04259764403104782, ...</td>\n",
       "      <td>0.168999</td>\n",
       "    </tr>\n",
       "    <tr>\n",
       "      <th>40</th>\n",
       "      <td>Lady Olivia is a A wealthy and beautiful noble...</td>\n",
       "      <td>[-0.019477209076285362, -0.0233752503991127, -...</td>\n",
       "      <td>0.185655</td>\n",
       "    </tr>\n",
       "    <tr>\n",
       "      <th>41</th>\n",
       "      <td>Sir Toby Belch is a A drunken and lecherous kn...</td>\n",
       "      <td>[-0.0015814456855878234, -0.03271515667438507,...</td>\n",
       "      <td>0.192094</td>\n",
       "    </tr>\n",
       "  </tbody>\n",
       "</table>\n",
       "</div>"
      ],
      "text/plain": [
       "                                                 text  \\\n",
       "42  Malvolio is a A pompous and self-righteous ste...   \n",
       "45  Bianca is a Lady Olivia's cunning and quick-wi...   \n",
       "43  Viola is a A plucky and resourceful young woma...   \n",
       "40  Lady Olivia is a A wealthy and beautiful noble...   \n",
       "41  Sir Toby Belch is a A drunken and lecherous kn...   \n",
       "\n",
       "                                           embeddings  distances  \n",
       "42  [-0.015081856399774551, -0.03434662148356438, ...   0.112745  \n",
       "45  [-0.015193937346339226, -0.02585979364812374, ...   0.162383  \n",
       "43  [-0.011117728427052498, -0.04259764403104782, ...   0.168999  \n",
       "40  [-0.019477209076285362, -0.0233752503991127, -...   0.185655  \n",
       "41  [-0.0015814456855878234, -0.03271515667438507,...   0.192094  "
      ]
     },
     "execution_count": 8,
     "metadata": {},
     "output_type": "execute_result"
    }
   ],
   "source": [
    "question1=\"What is Malvolio's profession?\"\n",
    "sorted_df1=get_rows_sorted_by_relevance(question1, df)\n",
    "sorted_df1.head(5)"
   ]
  },
  {
   "cell_type": "code",
   "execution_count": 9,
   "id": "c403f543",
   "metadata": {
    "id": "c403f543"
   },
   "outputs": [
    {
     "data": {
      "text/html": [
       "<div>\n",
       "<style scoped>\n",
       "    .dataframe tbody tr th:only-of-type {\n",
       "        vertical-align: middle;\n",
       "    }\n",
       "\n",
       "    .dataframe tbody tr th {\n",
       "        vertical-align: top;\n",
       "    }\n",
       "\n",
       "    .dataframe thead th {\n",
       "        text-align: right;\n",
       "    }\n",
       "</style>\n",
       "<table border=\"1\" class=\"dataframe\">\n",
       "  <thead>\n",
       "    <tr style=\"text-align: right;\">\n",
       "      <th></th>\n",
       "      <th>text</th>\n",
       "      <th>embeddings</th>\n",
       "      <th>distances</th>\n",
       "    </tr>\n",
       "  </thead>\n",
       "  <tbody>\n",
       "    <tr>\n",
       "      <th>24</th>\n",
       "      <td>Karma is a A chameleon-like performer, Karma i...</td>\n",
       "      <td>[-0.00669951643794775, -0.020639097318053246, ...</td>\n",
       "      <td>0.185831</td>\n",
       "    </tr>\n",
       "    <tr>\n",
       "      <th>11</th>\n",
       "      <td>Sonya is a A white woman in her late 20s, Sony...</td>\n",
       "      <td>[0.0022304225713014603, -0.026824770495295525,...</td>\n",
       "      <td>0.231970</td>\n",
       "    </tr>\n",
       "    <tr>\n",
       "      <th>4</th>\n",
       "      <td>Sarah is a A woman in her mid-20s, Sarah is a ...</td>\n",
       "      <td>[-0.01749402843415737, -0.02170724980533123, -...</td>\n",
       "      <td>0.235102</td>\n",
       "    </tr>\n",
       "    <tr>\n",
       "      <th>3</th>\n",
       "      <td>Tom is a A man in his 50s, Tom is a retired so...</td>\n",
       "      <td>[0.014993906952440739, -0.010453866794705391, ...</td>\n",
       "      <td>0.239333</td>\n",
       "    </tr>\n",
       "    <tr>\n",
       "      <th>8</th>\n",
       "      <td>Maria is a A middle-aged Latina woman in her 4...</td>\n",
       "      <td>[-0.0096737090498209, -0.011428854428231716, -...</td>\n",
       "      <td>0.240673</td>\n",
       "    </tr>\n",
       "  </tbody>\n",
       "</table>\n",
       "</div>"
      ],
      "text/plain": [
       "                                                 text  \\\n",
       "24  Karma is a A chameleon-like performer, Karma i...   \n",
       "11  Sonya is a A white woman in her late 20s, Sony...   \n",
       "4   Sarah is a A woman in her mid-20s, Sarah is a ...   \n",
       "3   Tom is a A man in his 50s, Tom is a retired so...   \n",
       "8   Maria is a A middle-aged Latina woman in her 4...   \n",
       "\n",
       "                                           embeddings  distances  \n",
       "24  [-0.00669951643794775, -0.020639097318053246, ...   0.185831  \n",
       "11  [0.0022304225713014603, -0.026824770495295525,...   0.231970  \n",
       "4   [-0.01749402843415737, -0.02170724980533123, -...   0.235102  \n",
       "3   [0.014993906952440739, -0.010453866794705391, ...   0.239333  \n",
       "8   [-0.0096737090498209, -0.011428854428231716, -...   0.240673  "
      ]
     },
     "execution_count": 9,
     "metadata": {},
     "output_type": "execute_result"
    }
   ],
   "source": [
    "question2=\"In what setting does Karma's story take place?\"\n",
    "sorted_df2=get_rows_sorted_by_relevance(question2, df)\n",
    "sorted_df2.head(5)"
   ]
  },
  {
   "cell_type": "markdown",
   "id": "fz4EUa817yW4",
   "metadata": {
    "id": "fz4EUa817yW4"
   },
   "source": [
    "## Prompt Engineering Logic\n",
    "\n",
    "Builds a prompt that combines multiple relevant text chunks into a single context, ensuring that the total token count stays within model limits. This prepares input for a context-aware custom query."
   ]
  },
  {
   "cell_type": "code",
   "execution_count": 10,
   "id": "74280b92",
   "metadata": {
    "id": "74280b92"
   },
   "outputs": [],
   "source": [
    "import tiktoken\n",
    "\n",
    "prompt_template=\"\"\"\n",
    "Answer the question based on the context given below, and if the question\n",
    "is unanswerable or not relevant to the provided data, just say \"Sorry. I don't know. Please provide some more data.\"\n",
    "\n",
    "Context:\n",
    "\n",
    "{}\n",
    "\n",
    "***************************\n",
    "\n",
    "Question: {}\n",
    "Answer:\"\"\"\n",
    "\n",
    "\n",
    "def create_prompt(question, df, max_token_count, prompt_template=prompt_template):\n",
    "    \"\"\"\n",
    "    Given a question and a dataframe containing rows of text and their\n",
    "    embeddings, return a text prompt to send to a Completion model\n",
    "    \"\"\"\n",
    "    # Create a tokenizer that is designed to align with our embeddings\n",
    "    tokenizer=tiktoken.get_encoding(\"cl100k_base\")\n",
    "\n",
    "\n",
    "    current_token_count=len(tokenizer.encode(prompt_template)) + \\\n",
    "                            len(tokenizer.encode(question))\n",
    "\n",
    "    context=[]\n",
    "    for text in get_rows_sorted_by_relevance(question, df)[\"text\"].values:\n",
    "\n",
    "        # Increase the counter based on the number of tokens in this row\n",
    "        text_token_count=len(tokenizer.encode(text))\n",
    "        current_token_count+=text_token_count\n",
    "\n",
    "        # Add the row of text to the list if we haven't exceeded the max\n",
    "        if current_token_count<=max_token_count:\n",
    "            context.append(text)\n",
    "        else:\n",
    "            break\n",
    "\n",
    "    return prompt_template.format(\"\\n\\n--------------------------------------------------\\n\\n\".join(context), question)"
   ]
  },
  {
   "cell_type": "markdown",
   "id": "Z48RdX408KRF",
   "metadata": {
    "id": "Z48RdX408KRF"
   },
   "source": [
    "## Show Prompts for 2 Questions\n",
    "\n",
    "Displays the final custom prompt generated for the questions, showing how the model will be guided to use context."
   ]
  },
  {
   "cell_type": "code",
   "execution_count": 11,
   "id": "H8RSUCe98Fx2",
   "metadata": {
    "id": "H8RSUCe98Fx2"
   },
   "outputs": [
    {
     "name": "stdout",
     "output_type": "stream",
     "text": [
      "\n",
      "Answer the question based on the context given below, and if the question\n",
      "is unanswerable or not relevant to the provided data, just say \"Sorry. I don't know. Please provide some more data.\"\n",
      "\n",
      "Context:\n",
      "\n",
      "Malvolio is a A pompous and self-righteous steward in Lady Olivia's household. Malvolio is humorless and uptight, and is often the target of Sir Toby Belch's pranks. He is secretly in love with Lady Olivia and harbors dreams of marrying her. This character appears in a Play set in Ancient Greece.\n",
      "\n",
      "--------------------------------------------------\n",
      "\n",
      "Bianca is a Lady Olivia's cunning and quick-witted maid. Bianca is a master of mischief and pranks, and often collaborates with Sir Toby Belch to torment Malvolio. She is also secretly in love with Sir Toby. This character appears in a Play set in Ancient Greece.\n",
      "\n",
      "--------------------------------------------------\n",
      "\n",
      "Viola is a A plucky and resourceful young woman who is shipwrecked on the coast of Illyria. Viola disguises herself as a man, taking on the identity of Cesario, and becomes a servant in Duke Orsino's household. She develops feelings for the Duke, but is unable to reveal her true identity. This character appears in a Play set in Ancient Greece.\n",
      "\n",
      "***************************\n",
      "\n",
      "Question: What is Malvolio's profession?\n",
      "Answer:\n",
      "\n",
      "Answer the question based on the context given below, and if the question\n",
      "is unanswerable or not relevant to the provided data, just say \"Sorry. I don't know. Please provide some more data.\"\n",
      "\n",
      "Context:\n",
      "\n",
      "Karma is a A chameleon-like performer, Karma is known for her ability to transform herself into any character. She's a master of illusion and is always pushing boundaries with her looks and performances, but can sometimes struggle with authenticity and staying true to herself. She's also a friend of Dolly, often offering her a listening ear when she needs it. This character appears in a Musical set in USA.\n",
      "\n",
      "--------------------------------------------------\n",
      "\n",
      "Sonya is a A white woman in her late 20s, Sonya is a free-spirited journalist who's always on the hunt for the next big story. She's passionate, tenacious, and unafraid to speak her mind. However, she's also struggling to balance her career with her personal life, and has a tendency to push people away. This character appears in a Movie set in Texas.\n",
      "\n",
      "--------------------------------------------------\n",
      "\n",
      "Sarah is a A woman in her mid-20s, Sarah is a free-spirited artist and Jack's employee. She's creative, unconventional, and passionate about her work. However, she can also be flighty and impulsive at times. This character appears in a Play set in England.\n",
      "\n",
      "***************************\n",
      "\n",
      "Question: In what setting does Karma's story take place?\n",
      "Answer:\n"
     ]
    }
   ],
   "source": [
    "# create prompt for question 1\n",
    "max_token_count=300\n",
    "print(create_prompt(question1, df, max_token_count))\n",
    "\n",
    "\n",
    "# create prompt for question 2\n",
    "max_token_count=300\n",
    "print(create_prompt(question2, df, max_token_count))\n",
    "\n",
    "COMPLETION_MODEL_NAME=\"gpt-3.5-turbo-instruct\""
   ]
  },
  {
   "cell_type": "markdown",
   "id": "xEP6Jw678Tuv",
   "metadata": {
    "id": "xEP6Jw678Tuv"
   },
   "source": [
    "## Define Final Answering Function\n",
    "\n",
    "Runs a Completion query using a prompt created by create_prompt(). This is the core function for producing answers with the custom RAG-like system."
   ]
  },
  {
   "cell_type": "code",
   "execution_count": 12,
   "id": "KtB45eJM8ScX",
   "metadata": {
    "id": "KtB45eJM8ScX"
   },
   "outputs": [
    {
     "name": "stdout",
     "output_type": "stream",
     "text": [
      "Steward\n",
      "A Musical set in USA.\n"
     ]
    }
   ],
   "source": [
    "def answer_question(\n",
    "    question, df, max_prompt_tokens=1800, max_answer_tokens=150\n",
    "):\n",
    "    \"\"\"\n",
    "    Given a question, a dataframe containing rows of text, and a maximum\n",
    "    number of desired tokens in the prompt and response,\n",
    "    Return the answer to the question according to an OpenAI Completion model.\n",
    "    If the model produces an error, return an empty string.\n",
    "    \"\"\"\n",
    "\n",
    "    prompt=create_prompt(question, df, max_prompt_tokens)\n",
    "\n",
    "    try:\n",
    "        response=openai.Completion.create(\n",
    "            model=COMPLETION_MODEL_NAME,\n",
    "            prompt=prompt,\n",
    "            max_tokens=max_answer_tokens\n",
    "        )\n",
    "        return response[\"choices\"][0][\"text\"].strip()\n",
    "    except Exception as e:\n",
    "        print(e)\n",
    "        return \"\"\n",
    "\n",
    "answer1=answer_question(question1, df)\n",
    "print(answer1)\n",
    "\n",
    "answer2=answer_question(question2, df)\n",
    "print(answer2)"
   ]
  },
  {
   "cell_type": "markdown",
   "id": "1783f146",
   "metadata": {
    "id": "1783f146"
   },
   "source": [
    "# Custom Performance Demonstration\n"
   ]
  },
  {
   "cell_type": "markdown",
   "id": "4f11fdc0",
   "metadata": {
    "id": "4f11fdc0"
   },
   "source": [
    "## Basic completion for question 1\n",
    "\n",
    "Asks a basic question with no custom context. This shows how the model performs without dataset guidance."
   ]
  },
  {
   "cell_type": "code",
   "execution_count": 13,
   "id": "4901c850",
   "metadata": {
    "id": "4901c850"
   },
   "outputs": [
    {
     "name": "stdout",
     "output_type": "stream",
     "text": [
      "It is not specified what Tom's profession is.\n"
     ]
    }
   ],
   "source": [
    "question1=\"What is Tom's profession?\"\n",
    "\n",
    "answer1=openai.Completion.create(\n",
    "    model=\"gpt-3.5-turbo-instruct\",\n",
    "    prompt=question1,\n",
    "    max_tokens=150\n",
    ")[\"choices\"][0][\"text\"].strip()\n",
    "print(answer1)"
   ]
  },
  {
   "cell_type": "markdown",
   "id": "f1794065",
   "metadata": {
    "id": "f1794065"
   },
   "source": [
    "## Custom Completion for question 1\n",
    "\n",
    "Asks the same question using context-aware prompt generation. Allows comparison with the basic model output."
   ]
  },
  {
   "cell_type": "code",
   "execution_count": 14,
   "id": "bd7a093b",
   "metadata": {
    "id": "bd7a093b"
   },
   "outputs": [
    {
     "name": "stdout",
     "output_type": "stream",
     "text": [
      "Tom is a retired soldier.\n"
     ]
    }
   ],
   "source": [
    "custom_chatbot_anwer1=answer_question(question1, df)\n",
    "print(custom_chatbot_anwer1)"
   ]
  },
  {
   "cell_type": "markdown",
   "id": "6e86e37c",
   "metadata": {
    "id": "6e86e37c"
   },
   "source": [
    "## Basic completion for question 2\n",
    "\n",
    "Asks a basic question with no custom context. This shows how the model performs without dataset guidance."
   ]
  },
  {
   "cell_type": "code",
   "execution_count": 15,
   "id": "6f646989",
   "metadata": {
    "id": "6f646989"
   },
   "outputs": [
    {
     "name": "stdout",
     "output_type": "stream",
     "text": [
      "The story takes place in a futuristic, dystopian society called the Glade. The Glade is a large, enclosed area surrounded by giant walls and populated by a community of teenage boys known as the Gladers.\n"
     ]
    }
   ],
   "source": [
    "question2=\"In what setting does Thomas's story take place?\"\n",
    "\n",
    "answer2=openai.Completion.create(\n",
    "    model=\"gpt-3.5-turbo-instruct\",\n",
    "    prompt=question2,\n",
    "    max_tokens=150\n",
    ")[\"choices\"][0][\"text\"].strip()\n",
    "print(answer2)"
   ]
  },
  {
   "cell_type": "markdown",
   "id": "R7NWEkNp85m9",
   "metadata": {
    "id": "R7NWEkNp85m9"
   },
   "source": [
    "## Custom Completion for question 2\n",
    "\n",
    "Asks the same question using context-aware prompt generation. Allows comparison with the basic model output."
   ]
  },
  {
   "cell_type": "code",
   "execution_count": 16,
   "id": "11c07a54",
   "metadata": {
    "id": "11c07a54"
   },
   "outputs": [
    {
     "name": "stdout",
     "output_type": "stream",
     "text": [
      "Thomas's story takes place in a Sitcom set in USA.\n"
     ]
    }
   ],
   "source": [
    "custom_chatbot_anwer2=answer_question(question2, df)\n",
    "print(custom_chatbot_anwer2)"
   ]
  },
  {
   "cell_type": "markdown",
   "id": "0NgNCuOJ9pFm",
   "metadata": {
    "id": "0NgNCuOJ9pFm"
   },
   "source": [
    "# Conclusion"
   ]
  },
  {
   "cell_type": "markdown",
   "id": "dbd2fd78",
   "metadata": {
    "id": "dbd2fd78"
   },
   "source": [
    "## Scenario Demonstration\n",
    "\n",
    "I tested this model with two sample questions which shows the output\n",
    "* Using a basic prompt (no custom context)\n",
    "* Using our custom prompt with dataset context\n",
    "\n",
    "This helps evaluate the value of tailored context in improving answer accuracy."
   ]
  },
  {
   "cell_type": "markdown",
   "id": "d598b133",
   "metadata": {
    "id": "d598b133"
   },
   "source": [
    "## Results and Discussion\n",
    "\n",
    "I observed that the answers generated using custom prompts that included dataset-specific context were more accurate and relevant than those generated by basic prompts.\n",
    "\n",
    "This highlights the advantage of embedding-based similarity search combined with prompt engineering for building specialized chatbots."
   ]
  }
 ],
 "metadata": {
  "colab": {
   "provenance": []
  },
  "kernelspec": {
   "display_name": "Python 3 (ipykernel)",
   "language": "python",
   "name": "python3"
  },
  "language_info": {
   "codemirror_mode": {
    "name": "ipython",
    "version": 3
   },
   "file_extension": ".py",
   "mimetype": "text/x-python",
   "name": "python",
   "nbconvert_exporter": "python",
   "pygments_lexer": "ipython3",
   "version": "3.9.18"
  }
 },
 "nbformat": 4,
 "nbformat_minor": 5
}
